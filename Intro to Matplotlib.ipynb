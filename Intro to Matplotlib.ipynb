{
 "cells": [
  {
   "cell_type": "code",
   "execution_count": null,
   "metadata": {},
   "outputs": [],
   "source": [
    "\"\"\" \n",
    "Intro to Matplotlib\n",
    "\n",
    "\n",
    "\n",
    "\n",
    "\n",
    "\n",
    "Main object: Figure\n",
    "\n",
    "Description: Visualization library\n",
    "\n",
    "Details:\n",
    "    1) There is a MATLAB-ish API but I'm not going to cover it, it's just so you know\n",
    "    2) We will focus on object oriented API that way we can create as many figures as we want!\n",
    "    \n",
    "\"\"\""
   ]
  },
  {
   "cell_type": "code",
   "execution_count": null,
   "metadata": {},
   "outputs": [],
   "source": [
    "\"\"\"\n",
    "Outline\n",
    "\n",
    "\n",
    "\n",
    "\n",
    "A) Figure (with figure size)\n",
    "\n",
    "B) Legends\n",
    "\n",
    "C) Colors, Linewidths, & Linetypes\n",
    "\n",
    "D) Axes Range & Tick Marks\n",
    "\n",
    "E) Subplots\n",
    "\"\"\" "
   ]
  },
  {
   "cell_type": "code",
   "execution_count": 1,
   "metadata": {},
   "outputs": [],
   "source": [
    "import matplotlib.pyplot as plt\n",
    "import numpy as np"
   ]
  },
  {
   "cell_type": "code",
   "execution_count": null,
   "metadata": {},
   "outputs": [],
   "source": [
    "\"\"\"\n",
    "\n",
    "A) Figure\n",
    "\n",
    "\"\"\""
   ]
  },
  {
   "cell_type": "code",
   "execution_count": 2,
   "metadata": {
    "scrolled": true
   },
   "outputs": [
    {
     "data": {
      "image/png": "[encoded data removed]",
      "text/plain": [
       "<matplotlib.figure.Figure at 0x10dae3a50>"
      ]
     },
     "metadata": {},
     "output_type": "display_data"
    }
   ],
   "source": [
    "# Here is what we want to plot\n",
    "x = np.array([1,2,3,4,5,6])\n",
    "y = np.array([1,4,9,16,25,36])\n",
    "\n",
    "# Make the figure object (basically a blank canvas)\n",
    "fig = plt.figure(figsize=(8,5), dpi=100) # figsize & dpi are optional\n",
    "                                          # figsize: width and height of the figure in inches\n",
    "                                          # dpi: is the dots-per-inch (pixel per inch)\n",
    "                                          # this makes an 800x500 pixel image\n",
    "\n",
    "# Important methods\n",
    "axes = fig.add_axes([0.1, 0.1, 0.8, 0.8]) # left, bottom, width, height (range 0 to 1)\n",
    "                                            # can add multiple axes, but need to explicitly place them, easier to use subplots\n",
    "axes.set_xlabel('X Axis')\n",
    "axes.set_ylabel('Y Axis')\n",
    "axes.set_title(\"Simple Line\")\n",
    "axes.plot(x, y, label=\"growth\") # label keyword used later!\n",
    "fig.savefig(\"file1.jpg\")"
   ]
  },
  {
   "cell_type": "code",
   "execution_count": null,
   "metadata": {},
   "outputs": [],
   "source": [
    "\"\"\"\n",
    "\n",
    "B) Legends\n",
    "\n",
    "\"\"\""
   ]
  },
  {
   "cell_type": "code",
   "execution_count": 3,
   "metadata": {},
   "outputs": [],
   "source": [
    "# Then you can pick the location of the legend on the figure\n",
    "axes.legend(loc=0) # options: 0 = Auto Best Fit, 1 = Upper Right, 2 = Lower Right, 3 = Lower Left, 4 = Lower Right\n",
    "fig.savefig(\"file2.jpg\")"
   ]
  },
  {
   "cell_type": "code",
   "execution_count": null,
   "metadata": {},
   "outputs": [],
   "source": [
    "\"\"\"\n",
    "\n",
    "C) Colors, Linewidths, & Linetypes\n",
    "\n",
    "\"\"\""
   ]
  },
  {
   "cell_type": "code",
   "execution_count": 4,
   "metadata": {},
   "outputs": [],
   "source": [
    "# Can control features of the line from the plot method\n",
    "benchmark_data = [5,5,5,5,5,5]\n",
    "axes.plot(x, benchmark_data, label=\"benchmark\", color=\"r\", alpha=.5, linewidth=1, linestyle ='-', marker='+', markersize=4)\n",
    "\n",
    "\"\"\"\n",
    "keyword information\n",
    "\n",
    "color:\n",
    "    1) names: \"b\", \"blue\", \"r\", \"red\", etc\n",
    "    2) hex code: \"#1155dd\", \"15cc55\"\n",
    "    \n",
    "alpha:\n",
    "    transparency of the line\n",
    "    \n",
    "linewidth:\n",
    "    self explanatory\n",
    "\n",
    "linestyle:\n",
    "    '-', '-.', ':', 'steps', might be others\n",
    "    \n",
    "marker:\n",
    "    '+', 'o', '*', 's', ',', '.', there are others\n",
    "    \n",
    "markersize:\n",
    "    self explanatory\n",
    "\n",
    "\"\"\"\n",
    "\n",
    "axes.legend(loc=0)\n",
    "fig.savefig(\"file3.jpg\")"
   ]
  },
  {
   "cell_type": "code",
   "execution_count": null,
   "metadata": {},
   "outputs": [],
   "source": [
    "\"\"\"\n",
    "\n",
    "D) Axes Range & Tick Marks\n",
    "\n",
    "\"\"\""
   ]
  },
  {
   "cell_type": "code",
   "execution_count": 5,
   "metadata": {},
   "outputs": [],
   "source": [
    "# Control the range of the axes\n",
    "axes.set_xlim([1, 6])\n",
    "axes.set_ylim([1, 50])\n",
    "#axes.axis(\"tight\") # to get auto tight fitted axes, do this\n",
    "\n",
    "# Control the tick lines\n",
    "axes.set_xticks([1, 2, 3, 4, 5, 6])\n",
    "axes.set_yticks([0, 25, 50])\n",
    "\n",
    "# Control the labels of the tick lines\n",
    "axes.set_xticklabels([\"2018-07-0{0}\".format(d) for d in range(1,7)])\n",
    "axes.set_yticklabels([0, 25, 50])\n",
    "\n",
    "axes.legend(loc=0)\n",
    "fig.savefig(\"file4.jpg\")"
   ]
  },
  {
   "cell_type": "code",
   "execution_count": null,
   "metadata": {},
   "outputs": [],
   "source": [
    "\"\"\"\n",
    "\n",
    "E) Subplots\n",
    "\n",
    "\"\"\""
   ]
  },
  {
   "cell_type": "code",
   "execution_count": 6,
   "metadata": {},
   "outputs": [
    {
     "data": {
      "image/png": "[encoded data removed]",
      "text/plain": [
       "<matplotlib.figure.Figure at 0x10dfd1bd0>"
      ]
     },
     "metadata": {},
     "output_type": "display_data"
    }
   ],
   "source": [
    "fig1, axes1 = plt.subplots(nrows=1, ncols=2, figsize=(8,5), dpi=100) # 2 graphs side by side\n",
    "\n",
    "# Set up first graph\n",
    "axes1[0].plot(x, x**2, color='r')\n",
    "axes1[0].set_xlabel(\"X Label\")\n",
    "axes1[0].set_ylabel(\"Y Label\")\n",
    "axes1[0].set_title(\"Squared\")\n",
    "\n",
    "# Set up second graph\n",
    "axes1[1].plot(x, x**3, color='b')\n",
    "axes1[1].set_xlabel(\"X Label\")\n",
    "axes1[1].set_ylabel(\"Y Label\")\n",
    "axes1[1].set_title(\"Cubed\")\n",
    "\n",
    "# Automatically adjust the positions of the axes so there is no overlap\n",
    "fig1.tight_layout()\n",
    "\n",
    "fig1.savefig(\"file5.jpg\")"
   ]
  },
  {
   "cell_type": "code",
   "execution_count": null,
   "metadata": {},
   "outputs": [],
   "source": [
    "\"\"\"\n",
    "\n",
    "More Resources\n",
    "\n",
    "http://www.matplotlib.org - The project web page for matplotlib.\n",
    "\n",
    "https://github.com/matplotlib/matplotlib - The source code for matplotlib.\n",
    "\n",
    "http://matplotlib.org/gallery.html - A large gallery showcaseing various types of plots matplotlib can create. Highly recommended!\n",
    "\n",
    "http://www.loria.fr/~rougier/teaching/matplotlib - A good matplotlib tutorial.\n",
    "\n",
    "http://scipy-lectures.github.io/matplotlib/matplotlib.html - Another good matplotlib reference.\n",
    "\n",
    "\"\"\""
   ]
  }
 ],
 "metadata": {
  "kernelspec": {
   "display_name": "Python 2",
   "language": "python",
   "name": "python2"
  },
  "language_info": {
   "codemirror_mode": {
    "name": "ipython",
    "version": 2
   },
   "file_extension": ".py",
   "mimetype": "text/x-python",
   "name": "python",
   "nbconvert_exporter": "python",
   "pygments_lexer": "ipython2",
   "version": "2.7.14"
  }
 },
 "nbformat": 4,
 "nbformat_minor": 1
}
